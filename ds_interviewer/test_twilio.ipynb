{
 "cells": [
  {
   "cell_type": "code",
   "execution_count": 1,
   "metadata": {},
   "outputs": [],
   "source": [
    "# Download the helper library from https://www.twilio.com/docs/python/install\n",
    "import os\n",
    "from twilio.rest import Client"
   ]
  },
  {
   "cell_type": "code",
   "execution_count": 2,
   "metadata": {},
   "outputs": [],
   "source": [
    "account_sid = os.getenv(\"TWILIO_ACCOUNT_SID\")"
   ]
  },
  {
   "cell_type": "code",
   "execution_count": 4,
   "metadata": {},
   "outputs": [
    {
     "name": "stdout",
     "output_type": "stream",
     "text": [
      "CH54321da2eb4e4988b24a1e7be332b9da\n"
     ]
    }
   ],
   "source": [
    "# Find your Account SID and Auth Token at twilio.com/console\n",
    "# and set the environment variables. See http://twil.io/secure\n",
    "account_sid = os.environ['TWILIO_ACCOUNT_SID']\n",
    "auth_token = os.environ['TWILIO_AUTH_TOKEN']\n",
    "client = Client(account_sid, auth_token)\n",
    "\n",
    "conversation = client.conversations \\\n",
    "                     .v1 \\\n",
    "                     .conversations \\\n",
    "                     .create(friendly_name='My First Conversation')\n",
    "\n",
    "print(conversation.sid)"
   ]
  },
  {
   "cell_type": "code",
   "execution_count": 7,
   "metadata": {},
   "outputs": [
    {
     "name": "stdout",
     "output_type": "stream",
     "text": [
      "ISb25e863ab89c4123968db411b1b90bef\n"
     ]
    }
   ],
   "source": [
    "conversation = client.conversations \\\n",
    "                     .v1 \\\n",
    "                     .conversations(conversation.sid) \\\n",
    "                     .fetch()\n",
    "\n",
    "print(conversation.chat_service_sid)"
   ]
  },
  {
   "cell_type": "code",
   "execution_count": 10,
   "metadata": {},
   "outputs": [],
   "source": [
    "sid = conversation.sid\n",
    "chat_service_sid = conversation.chat_service_sid"
   ]
  },
  {
   "cell_type": "code",
   "execution_count": 9,
   "metadata": {},
   "outputs": [
    {
     "data": {
      "text/plain": [
       "'CH54321da2eb4e4988b24a1e7be332b9da'"
      ]
     },
     "execution_count": 9,
     "metadata": {},
     "output_type": "execute_result"
    }
   ],
   "source": [
    "conversation.sid"
   ]
  },
  {
   "cell_type": "code",
   "execution_count": 11,
   "metadata": {},
   "outputs": [
    {
     "name": "stdout",
     "output_type": "stream",
     "text": [
      "MBed5c52aa9e8c44f9848b50d467f4eae0\n"
     ]
    }
   ],
   "source": [
    "participant = client.conversations \\\n",
    "    .v1 \\\n",
    "    .conversations(sid) \\\n",
    "    .participants \\\n",
    "    .create(\n",
    "         messaging_binding_address=\"+17788593969\",\n",
    "         messaging_binding_proxy_address=\"+19382009125\"\n",
    "     )\n",
    "\n",
    "print(participant.sid)"
   ]
  },
  {
   "cell_type": "code",
   "execution_count": null,
   "metadata": {},
   "outputs": [],
   "source": [
    "# twilio token:chat --identity testPineapple --chat-service-sid ISb25e863ab89c4123968db411b1b90bef --profile amolmane1"
   ]
  },
  {
   "cell_type": "code",
   "execution_count": 12,
   "metadata": {},
   "outputs": [
    {
     "name": "stdout",
     "output_type": "stream",
     "text": [
      "MBb21e0f9ff4ad48c0abc2be8b4c46dac1\n"
     ]
    }
   ],
   "source": [
    "participant = client.conversations \\\n",
    "                    .v1 \\\n",
    "                    .conversations(sid) \\\n",
    "                    .participants \\\n",
    "                    .create(identity='testPineapple')\n",
    "\n",
    "print(participant.sid)"
   ]
  }
 ],
 "metadata": {
  "kernelspec": {
   "display_name": "ds_interview_chatbot_venv",
   "language": "python",
   "name": "python3"
  },
  "language_info": {
   "codemirror_mode": {
    "name": "ipython",
    "version": 3
   },
   "file_extension": ".py",
   "mimetype": "text/x-python",
   "name": "python",
   "nbconvert_exporter": "python",
   "pygments_lexer": "ipython3",
   "version": "3.11.0"
  },
  "orig_nbformat": 4,
  "vscode": {
   "interpreter": {
    "hash": "41f12de9af4222e4b257cc56cd09168715a90beb6fcd186c29ab659bfe87472a"
   }
  }
 },
 "nbformat": 4,
 "nbformat_minor": 2
}
