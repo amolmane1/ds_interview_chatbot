{
 "cells": [
  {
   "cell_type": "code",
   "execution_count": 1,
   "id": "798bc135-82fe-421c-a159-2cddc783f77f",
   "metadata": {},
   "outputs": [],
   "source": [
    "import os\n",
    "import openai\n",
    "import pandas as pd\n",
    "import logging\n",
    "from IPython.display import clear_output\n",
    "\n",
    "\n",
    "\n",
    "import matplotlib.pyplot as plt\n",
    "%matplotlib inline"
   ]
  },
  {
   "cell_type": "code",
   "execution_count": 3,
   "id": "e17c5ca1-5d7e-454b-b937-5932347349e0",
   "metadata": {},
   "outputs": [],
   "source": [
    "openai.api_key = os.getenv(\"OPENAI_API_KEY\")\n",
    "logging.basicConfig(filename='../logs/gpt3_playground.log', \n",
    "                    format='%(asctime)s - %(levelname)s:\\n%(message)s\\n*************************************************************************\\n\\n', \n",
    "                    datefmt=\"%m/%d/%Y %I:%M:%S %p %Z\",\n",
    "                   level=logging.INFO)\n",
    "\n",
    "def log_completion_call(args, running_prompt, gpt_response, topic='misc', tag='', label='', reason='', notes='', insights=''):\n",
    "    logging.info(\n",
    "\"\"\"Parameters:\n",
    "{0}\n",
    "***************\n",
    "Prompt:\n",
    "{1}\n",
    "***************\n",
    "Output:\n",
    "{2}\n",
    "***************\n",
    "Tag: {3}\n",
    "Topic: {4}\n",
    "Label: {5}\n",
    "Reason: {6}\n",
    "Insights: {7}\n",
    "\"\"\".format(args,\n",
    "            running_prompt,\n",
    "            gpt_response,\n",
    "            tag,\n",
    "            topic,\n",
    "            label, \n",
    "            reason,\n",
    "            insights))"
   ]
  },
  {
   "cell_type": "markdown",
   "id": "df34aa40-8164-4456-8ac8-6b7c49f11a08",
   "metadata": {
    "tags": []
   },
   "source": [
    "# playground"
   ]
  },
  {
   "cell_type": "markdown",
   "id": "57725b81-f0f7-4ab7-af34-7e46c300addb",
   "metadata": {
    "jp-MarkdownHeadingCollapsed": true,
    "tags": []
   },
   "source": [
    "### logic"
   ]
  },
  {
   "cell_type": "code",
   "execution_count": 4,
   "id": "1576e141-a633-4bd8-9909-3195eab81234",
   "metadata": {},
   "outputs": [],
   "source": [
    "def chat(starting_prompt, topic='misc', args={}, gpt_name=\"Jim\", user_name=\"Amol\", starting_tag=''):\n",
    "    count = 0\n",
    "    continue_chatting = True\n",
    "    gpt_response = \"\"\n",
    "    user_input = \"\"\n",
    "    starting_prompt = starting_prompt.format(topic)\n",
    "    running_prompt = \"{0}\\n{1}: \".format(starting_prompt, \n",
    "                                         gpt_name)\n",
    "    args['stop'] =[\"{}: \".format(user_name), \"{}:\".format(user_name)]\n",
    "    \n",
    "    while continue_chatting:\n",
    "        \n",
    "        if count > 0:\n",
    "            running_prompt += \"{0}\\n{1}: {2}\\n{3}: \".format(gpt_response, \n",
    "                                                            user_name, \n",
    "                                                            user_input, \n",
    "                                                            gpt_name)\n",
    "        \n",
    "        gpt_response = openai.Completion.create(\n",
    "            prompt=running_prompt,\n",
    "            **args\n",
    "        ).choices[0].text.lstrip()\n",
    "        clear_output()\n",
    "        print(\"{0}{1}\".format(running_prompt, gpt_response))\n",
    "        \n",
    "        # get tag, label and reason\n",
    "        tag = input(\"Tag: \")\n",
    "        if tag == '':\n",
    "            tag = starting_tag\n",
    "        label = input(\"Label: \")\n",
    "        reason = input(\"Reason: \")\n",
    "        insights = input(\"Insights: \")\n",
    "        \n",
    "        # log query\n",
    "        log_completion_call(args, running_prompt, gpt_response, topic, tag=tag, label=label, reason=reason, insights=insights)\n",
    "        \n",
    "        if \"<<quit>>\" in gpt_response:\n",
    "            break\n",
    "        \n",
    "        # get user response\n",
    "        user_input = input(\"{0}: \".format(user_name))\n",
    "        \n",
    "        count += 1\n",
    "        \n",
    "        if user_input==\"q\":\n",
    "            break"
   ]
  },
  {
   "cell_type": "code",
   "execution_count": 5,
   "id": "0fbe029b-b79e-4987-a39b-d41059742f14",
   "metadata": {
    "tags": []
   },
   "outputs": [],
   "source": [
    "args = dict(\n",
    "    model=\"text-davinci-003\",\n",
    "    # model=\"code-davinci-002\",\n",
    "    temperature=1,\n",
    "    top_p=1,\n",
    "    frequency_penalty=.5,\n",
    "    presence_penalty=0,\n",
    "    max_tokens=2125)"
   ]
  },
  {
   "cell_type": "code",
   "execution_count": 7,
   "id": "c25b89d3-5074-4a23-8e3f-a9854131736d",
   "metadata": {},
   "outputs": [],
   "source": [
    "tags_map = {'q': 'question',\n",
    "            'cf': 'counterfactual',\n",
    "            'da': \"devil's advocate\",\n",
    "            'k': 'acknowledge answer',\n",
    "            'a': 'answer',\n",
    "            's': 'signpost',\n",
    "        'f': 'filler', \n",
    "        'g': 'grading',\n",
    "        'c': 'complete'\n",
    "           }"
   ]
  },
  {
   "cell_type": "code",
   "execution_count": 40,
   "id": "373b650e-04cd-42a2-8314-04301a6d88a9",
   "metadata": {},
   "outputs": [],
   "source": [
    "# prompts_map = {}\n",
    "\n",
    "# prompts_map = pd.DataFrame(columns=[\"topic\", \"question\", \"prompt\", \"notes\"])"
   ]
  },
  {
   "cell_type": "markdown",
   "id": "f6323e1a-8fa4-48a9-bf99-3b4f109a0ef6",
   "metadata": {
    "jp-MarkdownHeadingCollapsed": true,
    "tags": []
   },
   "source": [
    "### Q - how it works"
   ]
  },
  {
   "cell_type": "code",
   "execution_count": 104,
   "id": "ad070215-a74e-4213-b934-aa2bc16034ac",
   "metadata": {
    "tags": []
   },
   "outputs": [
    {
     "name": "stdout",
     "output_type": "stream",
     "text": [
      "\n",
      "Jim is interviewing Amol for a job as a Data Scientist. Jim asks amol questions to assess his skill level.\n",
      "\n",
      "Rules for Jim:\n",
      "- If Amol answers a question correctly, Jim outputs \"correct, <<quit>>\"\n",
      "- If Amol answers the question incorrectly, Jim outputs \"incorrect, <<quit>>\"\n",
      "- If Amol says he doesn’t understand the question, Jim rephrases the question and asks if Amol understands the question. \n",
      "- If Amol's answer is not specific enough, Jim follows up with a more specific question to get a specific answer.\n",
      "    - For example, if Amol says \"it transforms the values,\" Jim would ask, \"In what way does it transform the values?\"\n",
      "\n",
      "Jim asks Amol a question about how standard scaler works (in a different way, but meaning the same thing).\n",
      "The correct answer is a valid explanation of how standard scaler works.\n",
      "Jim does not answer the question himself, he only asks Amol the questions.\n",
      "\n",
      "Jim: How does standard scaler work?\n",
      "\n",
      "\n",
      "Amol: effectively\n",
      "Jim: How does standard scaler work?\n",
      "Amol: with math\n",
      "Jim: How does standard scaler work?\n",
      "Amol: do you mean in terms of performance or what transformations are done?\n",
      "Jim: Can you explain how standard scaler works in terms of the transformations that are done?\n",
      "Amol: mean of 0, variance of 1\n",
      "Jim: correct, <<quit>>\n"
     ]
    },
    {
     "name": "stdin",
     "output_type": "stream",
     "text": [
      "Tag:  g\n",
      "Label:  1\n",
      "Reason:  \n",
      "Insights:  \n"
     ]
    }
   ],
   "source": [
    "chat(\n",
    "starting_tag=\"\",\n",
    "topic=\"scaling\",\n",
    "starting_prompt=\"\"\"\n",
    "Jim is interviewing Amol for a job as a Data Scientist. Jim asks amol questions to assess his skill level.\n",
    "\n",
    "Rules for Jim:\n",
    "- If Amol answers a question correctly, Jim outputs \"correct, <<quit>>\"\n",
    "- If Amol answers the question incorrectly, Jim outputs \"incorrect, <<quit>>\"\n",
    "- If Amol says he doesn’t understand the question, Jim rephrases the question and asks if Amol understands the question. \n",
    "- If Amol's answer is not specific enough, Jim follows up with a more specific question to get a specific answer.\n",
    "    - For example, if Amol says \"it transforms the values,\" Jim would ask, \"In what way does it transform the values?\"\n",
    "\n",
    "Jim asks Amol a question about how standard scaler works (in a different way, but meaning the same thing).\n",
    "The correct answer is a valid explanation of how standard scaler works.\n",
    "Jim does not answer the question himself, he only asks Amol the questions.\n",
    "\"\"\",\n",
    "args=args\n",
    ")"
   ]
  },
  {
   "cell_type": "code",
   "execution_count": 8,
   "id": "10b4b9e4-830d-45f2-a5bc-c3f3e9c5ce8a",
   "metadata": {},
   "outputs": [
    {
     "name": "stdout",
     "output_type": "stream",
     "text": [
      "\n",
      "Jim is interviewing Amol for a job as a Data Scientist. Jim asks amol questions to assess his skill level.\n",
      "\n",
      "Rules for Jim:\n",
      "- If Amol answers a question correctly, Jim outputs \"correct, <<quit>>\"\n",
      "- If Amol answers the question incorrectly, Jim outputs \"incorrect, <<quit>>\"\n",
      "- If Amol says he doesn’t understand the question, Jim rephrases the question and asks if Amol understands the question. \n",
      "- If Amol's answer is not specific enough, Jim follows up with a more specific question to get a specific answer.\n",
      "    - For example, if Amol says \"it transforms the values,\" Jim would ask, \"In what way does it transform the values?\"\n",
      "\n",
      "Jim asks Amol a question about how standard scaler works (in a different way, but meaning the same thing).\n",
      "The correct answer is a valid explanation of how standard scaler works.\n",
      "Jim does not answer the question himself, he only asks Amol the questions.\n",
      "\n",
      "Jim: \"How does standard scaler work?\"\n",
      "\n",
      "Amol: I don't understand the question\n",
      "Jim: \"Standard scaler is a transformation that takes a feature and standardizes it so that all the values in it fit within a certain range. Can you explain how this works?\"\n"
     ]
    },
    {
     "name": "stdin",
     "output_type": "stream",
     "text": [
      "Tag:  \n",
      "Label:  0\n",
      "Reason:  \n",
      "Insights:  \n",
      "Amol:  q\n"
     ]
    }
   ],
   "source": [
    "chat(\n",
    "starting_tag=\"\",\n",
    "topic=\"scaling\",\n",
    "starting_prompt=\"\"\"\n",
    "Jim is interviewing Amol for a job as a Data Scientist. Jim asks amol questions to assess his skill level.\n",
    "\n",
    "Rules for Jim:\n",
    "- If Amol answers a question correctly, Jim outputs \"correct, <<quit>>\"\n",
    "- If Amol answers the question incorrectly, Jim outputs \"incorrect, <<quit>>\"\n",
    "- If Amol says he doesn’t understand the question, Jim rephrases the question and asks if Amol understands the question. \n",
    "- If Amol's answer is not specific enough, Jim follows up with a more specific question to get a specific answer.\n",
    "    - For example, if Amol says \"it transforms the values,\" Jim would ask, \"In what way does it transform the values?\"\n",
    "\n",
    "Jim asks Amol a question about how standard scaler works (in a different way, but meaning the same thing).\n",
    "The correct answer is a valid explanation of how standard scaler works.\n",
    "Jim does not answer the question himself, he only asks Amol the questions.\n",
    "\"\"\",\n",
    "args=args\n",
    ")"
   ]
  },
  {
   "cell_type": "markdown",
   "id": "c0773650-56dc-4255-8cbc-64faf63753ca",
   "metadata": {
    "jp-MarkdownHeadingCollapsed": true,
    "tags": []
   },
   "source": [
    "### Q - what else did you try?"
   ]
  },
  {
   "cell_type": "code",
   "execution_count": null,
   "id": "9fdc2e5b-8dd4-4ea1-ad27-06e9775fd647",
   "metadata": {},
   "outputs": [],
   "source": []
  },
  {
   "cell_type": "code",
   "execution_count": 109,
   "id": "f670549a-2710-42f4-aab6-01feb9f22101",
   "metadata": {},
   "outputs": [
    {
     "name": "stdout",
     "output_type": "stream",
     "text": [
      "\n",
      "Jim is interviewing Amol for a job as a Data Scientist. Jim asks amol questions to assess his skill level.\n",
      "\n",
      "Amol used Standard Scaler to scale his numerical features.\n",
      "Jim asks Amol what other options he considered to scale the numerical features (in a different way, but meaning the same thing).\n",
      "The correct answer is a list of viable ways to scale numerical features.\n",
      "Jim does not answer the question himself, he only asks Amol the questions.\n",
      "\n",
      "Rules for Jim:\n",
      "- If Amol answers a question correctly, Jim outputs \"correct, <<quit>>\"\n",
      "- If Amol answers the question incorrectly, Jim outputs \"incorrect, <<quit>>\"\n",
      "- If Amol says he doesn’t understand the question, Jim rephrases the question and asks if Amol understands the question. \n",
      "- If Amol's answer is not specific enough, Jim follows up with a more specific question to get a specific answer.\n",
      "    - For example, if Amol says \"it transforms the values,\" Jim would ask, \"In what way does it transform the values?\"\n",
      "\n",
      "Jim: What other options did you consider to scale the numerical features?\n",
      "Amol: gauss rank scaler\n",
      "Jim: correct, <<quit>>\n"
     ]
    },
    {
     "name": "stdin",
     "output_type": "stream",
     "text": [
      "Tag:  g\n",
      "Label:  1\n",
      "Reason:  \n",
      "Insights:  \n"
     ]
    }
   ],
   "source": [
    "chat(\n",
    "starting_tag=\"\",\n",
    "topic=\"scaling\",\n",
    "starting_prompt=\"\"\"\n",
    "Jim is interviewing Amol for a job as a Data Scientist. Jim asks amol questions to assess his skill level.\n",
    "\n",
    "Amol used Standard Scaler to scale his numerical features.\n",
    "Jim asks Amol what other options he considered to scale the numerical features (in a different way, but meaning the same thing).\n",
    "The correct answer is a list of viable ways to scale numerical features.\n",
    "Jim does not answer the question himself, he only asks Amol the questions.\n",
    "\n",
    "Rules for Jim:\n",
    "- If Amol answers a question correctly, Jim outputs \"correct, <<quit>>\"\n",
    "- If Amol answers the question incorrectly, Jim outputs \"incorrect, <<quit>>\"\n",
    "- If Amol says he doesn’t understand the question, Jim rephrases the question and asks if Amol understands the question. \n",
    "- If Amol's answer is not specific enough, Jim follows up with a more specific question to get a specific answer.\n",
    "    - For example, if Amol says \"it transforms the values,\" Jim would ask, \"In what way does it transform the values?\"\n",
    "\"\"\",\n",
    "args=args\n",
    ")"
   ]
  },
  {
   "cell_type": "markdown",
   "id": "4209cbd8-f729-4749-902e-68872c58f825",
   "metadata": {
    "jp-MarkdownHeadingCollapsed": true,
    "tags": []
   },
   "source": [
    "### Q - why did you choose this over the other options?"
   ]
  },
  {
   "cell_type": "markdown",
   "id": "eec712c9-3a69-45c4-b0dd-4c96388a7dfb",
   "metadata": {
    "tags": []
   },
   "source": [
    "#### if applicant does not come up with good options\n",
    "Jim comes up with options and asks Amol to think critically about them"
   ]
  },
  {
   "cell_type": "markdown",
   "id": "1e46c53b-25fc-4678-862e-ec5dc589de05",
   "metadata": {
    "tags": []
   },
   "source": [
    "##### eg 1"
   ]
  },
  {
   "cell_type": "code",
   "execution_count": 153,
   "id": "f1abdff6-cdd2-47de-9bdd-b383ccfe6759",
   "metadata": {},
   "outputs": [
    {
     "name": "stdout",
     "output_type": "stream",
     "text": [
      "\n",
      "Jim is interviewing Amol for a job as a Data Scientist.\n",
      "\n",
      "To deal with the class imbalance, Amol considered oversampling the minority class and adjusting class weights, but ultimately decided to undersample the majority class.\n",
      "\n",
      "Jim must complete each of 5 tasks below:\n",
      "- Task 1: Jim lists the approaches Amol considered\n",
      "- Task 2: Jim lists the approach Amol chose\n",
      "- Task 3: Jim comes up a way to deal with the class imbalance that Amol did not consider already\n",
      "- Task 4: Jim then asks Amol whether the approach from task 3 would be more effective than the one from task 2, and why or why not.\n",
      "- Task 5: After Jim gets an answer from Amol, Jim outputs \"<<quit>>\"\n",
      "\n",
      "Jim: Task 1: What approaches did you consider to deal with the class imbalance?\n",
      "\n",
      "\n"
     ]
    },
    {
     "name": "stdin",
     "output_type": "stream",
     "text": [
      "Tag:  \n",
      "Label:  0\n",
      "Reason:  \n",
      "Insights:  \n",
      "Amol:  q\n"
     ]
    }
   ],
   "source": [
    "# check if jim can ask question, and handle answer (correct, incorrect, vague, DNU) in the same prompt\n",
    "args = dict(\n",
    "    model=\"text-davinci-003\",\n",
    "    # model=\"code-davinci-002\",\n",
    "    temperature=0,\n",
    "    top_p=1,\n",
    "    frequency_penalty=0,\n",
    "    presence_penalty=0,\n",
    "    max_tokens=2000)\n",
    "\n",
    "chat(\n",
    "starting_tag=\"q\",\n",
    "topic=\"imbalance\",\n",
    "starting_prompt=\"\"\"\n",
    "Jim is interviewing Amol for a job as a Data Scientist. Jim is an experienced Data Scientist.\n",
    "Task: asking follow up questions to test Amol's critical thinking skills\n",
    "\n",
    "Example 1:\n",
    "Situation: To deal with the class imbalance, Amol considered oversampling the minority class and adjusting class weights, but ultimately decided to undersample the majority class because he wanted to decrease the size of the dataset to make training faster.\n",
    "- Task 1 - approaches Amol considered - oversampling the minority class, adjusting class weights, undersample the majority class\n",
    "- Task 2 - approach Amol chose - undersample the majority class\n",
    "- Task 3 - new approach - using SMOTE\n",
    "- Task 4 - question - Would SMOTE be more effective than undersample the majority class? Why or why not?\n",
    "\n",
    "Example 2:\n",
    "Situation: Amol considered using accuracy to measure the model's performance, but decided instead to use precision, because the dataset was imbalanced and the client cared more about reducing false positives than false negatives.\n",
    "\"\"\",\n",
    "args=args\n",
    ")"
   ]
  },
  {
   "cell_type": "code",
   "execution_count": 147,
   "id": "ba3468d8-a08c-4e99-a115-3d256703c9f2",
   "metadata": {},
   "outputs": [
    {
     "name": "stdout",
     "output_type": "stream",
     "text": [
      "\n",
      "Jim is interviewing Amol for a job as a Data Scientist.\n",
      "\n",
      "To deal with the class imbalance, Amol considered oversampling the minority class and adjusting class weights, but ultimately decided to undersample the majority class.\n",
      "\n",
      "Jim must complete each of 3 tasks below:\n",
      "- Task 1: Jim comes up a way to deal with the class imbalance that Amol did not consider already, and shares it with Amol. \n",
      "- Task 2: Jim then asks Amol whether Jim's approach would be more effective than the one Amol chose, and why or why not.\n",
      "- Task 3: After Jim gets an answer, he outputs \"<<quit>>\"\n",
      "\n",
      "Jim: One way to deal with the class imbalance that Amol didn't consider already is to use a technique called SMOTE. SMOTE stands for Synthetic Minority Oversampling Technique. This technique creates synthetic data points for the minority class, which can help to balance out the dataset. \n",
      "\n",
      "Jim: \n",
      "\n",
      "Would this be more effective than the one Amol chose, and why or why not?\n",
      "\n",
      "\n",
      "\n",
      "Amol: no, because it would increase the dataset size, which I want to avoid.\n",
      "Jim: I see. Well, one potential advantage of SMOTE is that it can help to improve the model's performance on the minority class. So it's something to consider if you're having trouble getting good results on the minority class.\n",
      "Amol: ok\n",
      "Jim: Do you have any other questions about the job, or is there anything else you'd like to tell me about your experience?\n"
     ]
    },
    {
     "name": "stdin",
     "output_type": "stream",
     "text": [
      "Tag:  q\n",
      "Label:  0\n",
      "Reason:  \n",
      "Insights:  \n",
      "Amol:  q\n"
     ]
    }
   ],
   "source": [
    "# check if jim can ask question, and handle answer (correct, incorrect, vague, DNU) in the same prompt\n",
    "args = dict(\n",
    "    model=\"text-davinci-002\",\n",
    "    # model=\"code-davinci-002\",\n",
    "    temperature=0,\n",
    "    top_p=1,\n",
    "    frequency_penalty=0.5,\n",
    "    presence_penalty=0,\n",
    "    max_tokens=2125)\n",
    "\n",
    "chat(\n",
    "starting_tag=\"q\",\n",
    "topic=\"imbalance\",\n",
    "starting_prompt=\"\"\"\n",
    "Jim is interviewing Amol for a job as a Data Scientist.\n",
    "\n",
    "To deal with the class imbalance, Amol considered oversampling the minority class and adjusting class weights, but ultimately decided to undersample the majority class.\n",
    "\n",
    "Jim must complete each of 3 tasks below:\n",
    "- Task 1: Jim comes up a way to deal with the class imbalance that Amol did not consider already, and shares it with Amol. \n",
    "- Task 2: Jim then asks Amol whether Jim's approach would be more effective than the one Amol chose, and why or why not.\n",
    "- Task 3: After Jim gets an answer, he outputs \"<<quit>>\"\n",
    "\"\"\",\n",
    "args=args\n",
    ")"
   ]
  },
  {
   "cell_type": "code",
   "execution_count": 145,
   "id": "b72bc3c1-63b9-4d54-afd5-1bfa46317dd9",
   "metadata": {},
   "outputs": [
    {
     "name": "stdout",
     "output_type": "stream",
     "text": [
      "\n",
      "Jim is interviewing Amol for a job as a Data Scientist.\n",
      "\n",
      "To deal with the class imbalance, Amol considered oversampling the minority class and adjusting class weights, but ultimately decided to undersample the majority class.\n",
      "\n",
      "Jim comes up a way to deal with the class imbalance that Amol did not consider already. Jim then asks Amol whether Jim's approach would be more effective than the one Amol chose, and why or why not.\n",
      "\n",
      "Jim: One way to deal with class imbalance is to use a technique called SMOTE, which stands for Synthetic Minority Oversampling Technique. This technique creates synthetic data points for the minority class, which can help balance out the dataset.\n",
      "\n",
      "Do you think this would be more effective than undersampling the majority class? Why or why not?\n",
      "\n",
      "\n"
     ]
    },
    {
     "name": "stdin",
     "output_type": "stream",
     "text": [
      "Tag:  \n",
      "Label:  1\n",
      "Reason:  \n",
      "Insights:  \n",
      "Amol:  q\n"
     ]
    }
   ],
   "source": [
    "args['temperature'] = 0\n",
    "\n",
    "chat(\n",
    "starting_tag=\"q\",\n",
    "topic=\"imbalance\",\n",
    "starting_prompt=\"\"\"\n",
    "Jim is interviewing Amol for a job as a Data Scientist.\n",
    "\n",
    "To deal with the class imbalance, Amol considered oversampling the minority class and adjusting class weights, but ultimately decided to undersample the majority class.\n",
    "\n",
    "Jim comes up a way to deal with the class imbalance that Amol did not consider already. Jim then asks Amol whether Jim's approach would be more effective than the one Amol chose, and why or why not.\n",
    "\"\"\",\n",
    "args=args\n",
    ")"
   ]
  },
  {
   "cell_type": "code",
   "execution_count": 29,
   "id": "6737b348-63e2-40b3-b9aa-28b49dca1771",
   "metadata": {},
   "outputs": [
    {
     "name": "stdout",
     "output_type": "stream",
     "text": [
      "\n",
      "Jim is interviewing Amol for a job as a Data Scientist.\n",
      "\n",
      "Amol undersampled the majority class to deal with the class imbalance, but also considered oversampling the minority class and adjusting class weights.\n",
      "\n",
      "Jim comes up a way to deal with the class imbalance that Amol did not consider already, and asks Amol whether that apprach would be more effective than the one he chose, and why or why not.\n",
      "\n",
      "Jim: \"My approach to dealing with class imbalance would be to train a support vector machine using a cost-sensitive approach. This would involve increasing the penalty for misclassifying the minority class, which would in turn help the model learn to better distinguish between the two classes. Do you think this would be more effective than your approach, and why or why not?\"\n",
      "\n",
      "\n",
      "Amol: yes, because it requires fewer pre-processing steps. it is cleaner.\n",
      "Jim: Assuming that you are referring to my approach of training a support vector machine with a cost-sensitive approach, then yes, I think it would be more effective. The reason is that this approach would directly address the issue of class imbalance, by increasing the penalty for misclassifying the minority class. This would in turn help the model learn to better distinguish between the two classes.\n"
     ]
    },
    {
     "name": "stdin",
     "output_type": "stream",
     "text": [
      "Tag:  a\n",
      "Label:  1\n",
      "Reason:  \n",
      "Insights:  \n",
      "Amol:  q\n"
     ]
    }
   ],
   "source": [
    "chat(\n",
    "starting_tag=\"q\",\n",
    "topic=\"imbalance\",\n",
    "starting_prompt=\"\"\"\n",
    "Jim is interviewing Amol for a job as a Data Scientist.\n",
    "\n",
    "Amol undersampled the majority class to deal with the class imbalance, but also considered oversampling the minority class and adjusting class weights.\n",
    "\n",
    "Jim comes up a way to deal with the class imbalance that Amol did not consider already, and asks Amol whether that apprach would be more effective than the one he chose, and why or why not.\n",
    "\"\"\",\n",
    "args=args\n",
    ")"
   ]
  },
  {
   "cell_type": "markdown",
   "id": "4ec8e36d-8a6e-4a5b-b777-ee0cc4ff2577",
   "metadata": {},
   "source": [
    "###### evaluate"
   ]
  },
  {
   "cell_type": "code",
   "execution_count": 106,
   "id": "961d4f8c-7756-405d-b40d-61c4d7dc2fa7",
   "metadata": {},
   "outputs": [
    {
     "data": {
      "text/plain": [
       "\"Amol's approach is more effective for the specific problem. Jim's approach would require more data and would be more computationally expensive.\""
      ]
     },
     "execution_count": 106,
     "metadata": {},
     "output_type": "execute_result"
    }
   ],
   "source": [
    "args = dict(\n",
    "    model=\"text-davinci-002\",\n",
    "    # model=\"code-davinci-002\",\n",
    "    temperature=0,\n",
    "    top_p=1,\n",
    "    frequency_penalty=0.5,\n",
    "    presence_penalty=0,\n",
    "    max_tokens=2125)\n",
    "\n",
    "gpt_response = openai.Completion.create(\n",
    "            prompt=\"\"\"\n",
    "Jim is interviewing Amol for a job as a Data Scientist.\n",
    "\n",
    "Amol undersampled the majority class to deal with the class imbalance, but also considered oversampling the minority class and adjusting class weights.\n",
    "\n",
    "Jim: \"My approach to dealing with class imbalance would be to train a support vector machine using a cost-sensitive approach. \n",
    "This would involve increasing the penalty for misclassifying the minority class, which would in turn help the model learn to better distinguish between the two classes. \n",
    "Do you think this would be more effective than your approach, and why or why not?\"\n",
    "\n",
    "Is Amol's approach more effective for the specific problem, or is Jim's and why? The requirement for the client is that the model is small and doesn't take too long to train.\n",
    "\"\"\",\n",
    "            **args\n",
    "        ).choices[0].text.lstrip()\n",
    "\n",
    "\n",
    "gpt_response"
   ]
  },
  {
   "cell_type": "markdown",
   "id": "d56fe276-3353-48c8-a705-fd6d9b6f2bbd",
   "metadata": {
    "tags": []
   },
   "source": [
    "##### eg 2"
   ]
  },
  {
   "cell_type": "code",
   "execution_count": 35,
   "id": "cd087575-07cc-44c3-bee2-aba37aee30a5",
   "metadata": {},
   "outputs": [
    {
     "name": "stdout",
     "output_type": "stream",
     "text": [
      "\n",
      "Jim is interviewing Amol for a job as a Data Scientist.\n",
      "\n",
      "Amol undersampled the majority class to deal with the class imbalance, but also considered oversampling the minority class and adjusting class weights.\n",
      "\n",
      "Jim comes up a way to deal with the class imbalance that Amol did not consider already.\n",
      "\n",
      "Jim: One way to deal with class imbalance that you didn't mention is using a technique called SMOTE, which stands for synthetic minority oversampling technique. This involves creating synthetic samples of the minority class, which can be done by randomly sampling features and adding a small amount of noise. This can help to balance out the dataset and improve model performance.\n"
     ]
    },
    {
     "name": "stdin",
     "output_type": "stream",
     "text": [
      "Tag:  g\n",
      "Label:  1\n",
      "Reason:  \n",
      "Insights:  \n",
      "Amol:  q\n"
     ]
    }
   ],
   "source": [
    "chat(\n",
    "starting_tag=\"g\",\n",
    "topic=\"imbalance\",\n",
    "starting_prompt=\"\"\"\n",
    "Jim is interviewing Amol for a job as a Data Scientist.\n",
    "\n",
    "Amol undersampled the majority class to deal with the class imbalance, but also considered oversampling the minority class and adjusting class weights.\n",
    "\n",
    "Jim comes up a way to deal with the class imbalance that Amol did not consider already.\n",
    "\"\"\",\n",
    "args=args\n",
    ")"
   ]
  },
  {
   "cell_type": "markdown",
   "id": "f63ccecb-811c-4a02-9bef-14bb6e69c18d",
   "metadata": {},
   "source": [
    "###### evaluate"
   ]
  },
  {
   "cell_type": "code",
   "execution_count": 96,
   "id": "99ef8a7b-5238-491c-911a-9997882b0cc7",
   "metadata": {},
   "outputs": [
    {
     "data": {
      "text/plain": [
       "\"Amol's approach is more effective for the specific problem. Jim's approach may improve model performance, but it will also increase the size of the model and the training time.\""
      ]
     },
     "execution_count": 96,
     "metadata": {},
     "output_type": "execute_result"
    }
   ],
   "source": [
    "args = dict(\n",
    "    model=\"text-davinci-002\",\n",
    "    # model=\"code-davinci-002\",\n",
    "    temperature=0,\n",
    "    top_p=1,\n",
    "    frequency_penalty=0.5,\n",
    "    presence_penalty=0,\n",
    "    max_tokens=2125)\n",
    "\n",
    "gpt_response = openai.Completion.create(\n",
    "            prompt=\"\"\"\n",
    "Jim is interviewing Amol for a job as a Data Scientist.\n",
    "\n",
    "Amol undersampled the majority class to deal with the class imbalance, but also considered oversampling the minority class and adjusting class weights.\n",
    "\n",
    "Jim: One way to deal with class imbalance that you didn't mention is using a technique called SMOTE, which stands for synthetic minority oversampling technique. \n",
    "This involves creating synthetic samples of the minority class, which can be done by randomly sampling features and adding a small amount of noise. \n",
    "This can help to balance out the dataset and improve model performance.\n",
    "\n",
    "Is Amol's approach more effective for the specific problem, or is Jim's and why? The requirement for the client is that the model is small and doesn't take too long to train.\n",
    "\"\"\",\n",
    "            **args\n",
    "        ).choices[0].text.lstrip()\n",
    "\n",
    "\n",
    "gpt_response"
   ]
  },
  {
   "cell_type": "markdown",
   "id": "ff30bff3-6d74-46f2-be02-3df4005c9176",
   "metadata": {
    "tags": []
   },
   "source": [
    "#### if applicant comes up with reasonable options"
   ]
  },
  {
   "cell_type": "code",
   "execution_count": 116,
   "id": "758d6244-9667-47e5-945d-7e95e8b906ff",
   "metadata": {},
   "outputs": [
    {
     "name": "stdout",
     "output_type": "stream",
     "text": [
      "\n",
      "Jim is interviewing Amol for a job as a Data Scientist. Jim asks amol questions to assess his skill level.\n",
      "\n",
      "Amol undersampled the majority class to deal with the class imbalance, but also considered oversampling the minority class and adjusting class weights.\n",
      "Jim asks Amol why he chose undersampling over the other options he considered (in a different way, but meaning the same thing).\n",
      "The correct answer is a valid rationate for choosing undersampling over the other options.\n",
      "Jim does not answer the question himself, he only asks Amol the questions.\n",
      "\n",
      "Rules for Jim:\n",
      "- If Amol answers a question correctly, Jim outputs \"correct, <<quit>>\"\n",
      "- If Amol answers the question incorrectly, Jim outputs \"incorrect, <<quit>>\"\n",
      "- If Amol says he doesn’t understand the question, Jim rephrases the question and asks if Amol understands the question. \n",
      "- If Amol's answer is not specific enough, Jim follows up with a more specific question to get a specific answer.\n",
      "    - For example, if Amol says \"it transforms the values,\" Jim would ask, \"In what way does it transform the values?\"\n",
      "\n",
      "Jim: Why did you choose to undersample the majority class instead of the other options you considered?\n",
      "\n",
      "\n",
      "Amol: the dataset was already too big, and oversampling the minority class would have slowed down the model training. under sampling the majority class let me deal with the imbalance without slowing down model training.\n",
      "Jim: correct, <<quit>>\n"
     ]
    },
    {
     "name": "stdin",
     "output_type": "stream",
     "text": [
      "Tag:  g\n",
      "Label:  1\n",
      "Reason:  \n",
      "Insights:  \n"
     ]
    }
   ],
   "source": [
    "chat(\n",
    "starting_tag=\"\",\n",
    "topic=\"imbalance\",\n",
    "starting_prompt=\"\"\"\n",
    "Jim is interviewing Amol for a job as a Data Scientist. Jim asks amol questions to assess his skill level.\n",
    "\n",
    "Amol undersampled the majority class to deal with the class imbalance, but also considered oversampling the minority class and adjusting class weights.\n",
    "Jim asks Amol why he chose undersampling over the other options he considered (in a different way, but meaning the same thing).\n",
    "The correct answer is a valid rationate for choosing undersampling over the other options.\n",
    "Jim does not answer the question himself, he only asks Amol the questions.\n",
    "\n",
    "Rules for Jim:\n",
    "- If Amol answers a question correctly, Jim outputs \"correct, <<quit>>\"\n",
    "- If Amol answers the question incorrectly, Jim outputs \"incorrect, <<quit>>\"\n",
    "- If Amol says he doesn’t understand the question, Jim rephrases the question and asks if Amol understands the question. \n",
    "- If Amol's answer is not specific enough, Jim follows up with a more specific question to get a specific answer.\n",
    "    - For example, if Amol says \"it transforms the values,\" Jim would ask, \"In what way does it transform the values?\"\n",
    "\"\"\",\n",
    "args=args\n",
    ")"
   ]
  },
  {
   "cell_type": "markdown",
   "id": "23216ec4-24dc-4898-928b-feadd11e0d0f",
   "metadata": {
    "jp-MarkdownHeadingCollapsed": true,
    "tags": []
   },
   "source": [
    "### Q - what would you do if you have X constraint/requirement/context?"
   ]
  },
  {
   "cell_type": "markdown",
   "id": "667e57fe-eb3b-4f71-be8f-24dc2791d6d2",
   "metadata": {
    "jp-MarkdownHeadingCollapsed": true,
    "tags": []
   },
   "source": [
    "###### eg 1"
   ]
  },
  {
   "cell_type": "code",
   "execution_count": 38,
   "id": "42f5649f-2ec5-41f4-adaf-014193cacd30",
   "metadata": {},
   "outputs": [
    {
     "name": "stdout",
     "output_type": "stream",
     "text": [
      "\n",
      "Jim is interviewing Amol for a job as a Data Scientist.\n",
      "\n",
      "In a case study, Amol considered oversampling the minority class and adjusting class weights, but ultimately undersampled the majority class to deal with the class imbalance.\n",
      "Jim: Why did you choose to undersample the majority class instead of the other options you considered?\n",
      "Amol: the dataset was already too big, and oversampling the minority class would have slowed down the model training. under sampling the majority class let me deal with the imbalance without slowing down model training.\n",
      "\n",
      "Jim comes up with a question that involves changing a key part of the context required for Amol to make a decision.\n",
      "\n",
      "Jim: Suppose you had more data, and could afford to train a slower model. Would you still choose to undersample the majority class?\n",
      "Amol: no, I'd upsample the minority class\n",
      "Jim: What are the potential consequences of upsampling the minority class?\n",
      "Amol: the model would take longer to train, and would be more likely to predict false positives, which would affect the model's performance.\n",
      "Jim: What are the potential consequences of not upsampling the minority class?\n",
      "\n",
      "\n",
      "Amol: the model would have a lot of false negatives.\n",
      "Jim: What are the potential consequences of not upsampling the minority class?\n",
      "\n",
      "If the model only contains data from the majority class, it would be biased and would not accurately represent the minority class. This could lead to unfair decisions or results.\n"
     ]
    },
    {
     "name": "stdin",
     "output_type": "stream",
     "text": [
      "Tag:  \n",
      "Label:  1\n",
      "Reason:  \n",
      "Insights:  \n",
      "Amol:  q\n"
     ]
    }
   ],
   "source": [
    "chat(\n",
    "starting_tag=\"cf\",\n",
    "topic=\"imbalance\",\n",
    "starting_prompt=\"\"\"\n",
    "Jim is interviewing Amol for a job as a Data Scientist.\n",
    "\n",
    "In a case study, Amol considered oversampling the minority class and adjusting class weights, but ultimately undersampled the majority class to deal with the class imbalance.\n",
    "Jim: Why did you choose to undersample the majority class instead of the other options you considered?\n",
    "Amol: the dataset was already too big, and oversampling the minority class would have slowed down the model training. under sampling the majority class let me deal with the imbalance without slowing down model training.\n",
    "\n",
    "Jim comes up with a question that involves changing a key part of the context required for Amol to make a decision.\n",
    "\"\"\",\n",
    "args=args\n",
    ")"
   ]
  },
  {
   "cell_type": "markdown",
   "id": "1f1f824f-240a-44e7-ab23-f2e433124ace",
   "metadata": {
    "tags": []
   },
   "source": [
    "###### eg 2"
   ]
  },
  {
   "cell_type": "code",
   "execution_count": 11,
   "id": "3a4d8c1c-3d94-4144-bad4-9cd2c2c00472",
   "metadata": {
    "tags": []
   },
   "outputs": [
    {
     "name": "stdout",
     "output_type": "stream",
     "text": [
      "\n",
      "Jim is interviewing Amol for a job as a Data Scientist.\n",
      "\n",
      "In a case study, Amol considered using accuracy to measure the model's performance, but decided instead to use precision, because the dataset was imbalanced and the client cared more about reducing false positives than false negatives.\n",
      "\n",
      "Jim comes up with a question that involves changing a key part of the context required for Amol to make a decision.\n",
      "\n",
      "Jim: What if the dataset was not imbalanced, and the client instead cared more about reducing false negatives? Would you still use precision to measure the model's performance?\n",
      "Amol: no, I'd use recall\n",
      "Jim: Why would you use recall in this case?\n",
      "Amol: because recall measures what percent of actual positives you catch, ie how few false negatives you have. \n",
      "Jim: Ah, so you would use recall to minimize false negatives.\n",
      "Amol: yes\n",
      "Jim: Would you also use recall if the dataset was imbalanced and the client cared more about reducing false positives?\n",
      "\n",
      "Amol: no, I'd use precision\n",
      "Jim: Why would you use precision in this case?\n",
      "\n",
      "\n",
      "Amol: because precision measures what fraction of predicted positives are actually positive, ie how few false positives you have.\n",
      "Jim: Ah, so you would use precision to minimize false positives.\n",
      "Amol: yes\n",
      "Jim: Precision and recall are both measures of model performance, but they focus on different things. Precision measures the percentage of predicted positive examples that are actually positive, while recall measures the percentage of actual positive examples that are correctly predicted as positive. In an imbalanced dataset, where the client cares more about reducing false positives, precision would be a better metric to use than recall.\n",
      "Amol: yes\n",
      "Jim: Thank you for your explanation, Amol.\n"
     ]
    },
    {
     "name": "stdin",
     "output_type": "stream",
     "text": [
      "Tag:  f\n",
      "Label:  1\n",
      "Reason:  \n",
      "Insights:  \n",
      "Amol:  q\n"
     ]
    }
   ],
   "source": [
    "chat(\n",
    "starting_tag=\"cf\",\n",
    "topic=\"imbalance\",\n",
    "starting_prompt=\"\"\"\n",
    "Jim is interviewing Amol for a job as a Data Scientist.\n",
    "\n",
    "In a case study, Amol considered using accuracy to measure the model's performance, but decided instead to use precision, because the dataset was imbalanced and the client cared more about reducing false positives than false negatives.\n",
    "\n",
    "Jim comes up with a question that involves changing a key part of the context required for Amol to make a decision.\n",
    "\"\"\",\n",
    "args=args\n",
    ")"
   ]
  },
  {
   "cell_type": "code",
   "execution_count": 120,
   "id": "7f56779c-dc7f-47a7-828b-b7b64dc65e23",
   "metadata": {},
   "outputs": [
    {
     "name": "stdout",
     "output_type": "stream",
     "text": [
      "\n",
      "Jim is interviewing Amol for a job as a Data Scientist.\n",
      "\n",
      "In a case study, Amol considered using accuracy to measure the model's performance, but decided instead to use precision, because the dataset was imbalanced and the client cared more about reducing false positives than false negatives.\n",
      "\n",
      "Jim comes up with a question that involves changing a key part of the context required for Amol to make a decision.\n",
      "- If Amol's answer to Jim's question is valid, output \"correct, <<quit>>\" and why\n",
      "- If Amol's answer to Jim's question is invalid, output \"incorrect, <<quit>>\" and why\n",
      "\n",
      "Jim: What would you have done if the client had cared more about reducing false negatives than false positives?\n",
      "\n",
      "\n",
      "Amol: id still use precision\n",
      "Jim: incorrect, Amol would have used recall instead of precision if the client had cared more about reducing false negatives.\n"
     ]
    },
    {
     "name": "stdin",
     "output_type": "stream",
     "text": [
      "Tag:  g\n",
      "Label:  1\n",
      "Reason:  \n",
      "Insights:  \n",
      "Amol:  q\n"
     ]
    }
   ],
   "source": [
    "args = dict(\n",
    "    model=\"text-davinci-002\",\n",
    "    # model=\"code-davinci-002\",\n",
    "    temperature=0,\n",
    "    top_p=1,\n",
    "    frequency_penalty=0.5,\n",
    "    presence_penalty=0,\n",
    "    max_tokens=2125)\n",
    "\n",
    "chat(\n",
    "starting_tag=\"cf\",\n",
    "topic=\"imbalance\",\n",
    "starting_prompt=\"\"\"\n",
    "Jim is interviewing Amol for a job as a Data Scientist.\n",
    "\n",
    "In a case study, Amol considered using accuracy to measure the model's performance, but decided instead to use precision, because the dataset was imbalanced and the client cared more about reducing false positives than false negatives.\n",
    "\n",
    "Jim comes up with a question that involves changing a key part of the context required for Amol to make a decision.\n",
    "- If Amol's answer to Jim's question is valid, output \"correct, <<quit>>\" and why\n",
    "- If Amol's answer to Jim's question is invalid, output \"incorrect, <<quit>>\" and why\n",
    "\"\"\",\n",
    "args=args\n",
    ")"
   ]
  },
  {
   "cell_type": "code",
   "execution_count": 124,
   "id": "01bbc475-a85f-45c6-b315-43a69c40f150",
   "metadata": {},
   "outputs": [
    {
     "name": "stdout",
     "output_type": "stream",
     "text": [
      "\n",
      "Jim is interviewing Amol for a job as a Data Scientist.\n",
      "\n",
      "In a case study, Amol considered using accuracy to measure the model's performance, but decided instead to use precision, because the dataset was imbalanced and the client cared more about reducing false positives than false negatives.\n",
      "\n",
      "Jim comes up with a question that involves changing a key part of the context required for Amol to make a decision.\n",
      "- If Amol's answer to Jim's question is valid, output \"<<correct>\" and why\n",
      "- If Amol's answer to Jim's question is invalid, output \"<<incorrect>>\" and why\n",
      "\n",
      "Jim: What would you have done if the client had cared more about reducing false negatives than false positives?\n",
      "\n",
      "\n",
      "Amol: I'd use recall instead\n",
      "Jim: <<correct>>\n",
      "\n",
      "In this case, Amol's answer is correct. If the client had cared more about reducing false negatives, Amol would have used recall to measure the model's performance instead of precision.\n"
     ]
    },
    {
     "name": "stdin",
     "output_type": "stream",
     "text": [
      "Tag:  g\n",
      "Label:  1\n",
      "Reason:  \n",
      "Insights:  \n",
      "Amol:  q\n"
     ]
    }
   ],
   "source": [
    "args = dict(\n",
    "    model=\"text-davinci-002\",\n",
    "    # model=\"code-davinci-002\",\n",
    "    temperature=0,\n",
    "    top_p=1,\n",
    "    frequency_penalty=0.5,\n",
    "    presence_penalty=0,\n",
    "    max_tokens=2125)\n",
    "\n",
    "chat(\n",
    "starting_tag=\"cf\",\n",
    "topic=\"imbalance\",\n",
    "starting_prompt=\"\"\"\n",
    "Jim is interviewing Amol for a job as a Data Scientist.\n",
    "\n",
    "In a case study, Amol considered using accuracy to measure the model's performance, but decided instead to use precision, because the dataset was imbalanced and the client cared more about reducing false positives than false negatives.\n",
    "\n",
    "Jim comes up with a question that involves changing a key part of the context required for Amol to make a decision.\n",
    "- If Amol's answer to Jim's question is valid, output \"<<correct>\" and why\n",
    "- If Amol's answer to Jim's question is invalid, output \"<<incorrect>>\" and why\n",
    "\"\"\",\n",
    "args=args\n",
    ")"
   ]
  },
  {
   "cell_type": "code",
   "execution_count": 133,
   "id": "c4437c1b-9137-41a5-8e43-ef74ba86cca2",
   "metadata": {},
   "outputs": [
    {
     "name": "stdout",
     "output_type": "stream",
     "text": [
      "\n",
      "Jim is interviewing Amol for a job as a Data Scientist.\n",
      "\n",
      "In a case study, Amol considered using accuracy to measure the model's performance, but decided instead to use precision, because the dataset was imbalanced and the client cared more about reducing false positives than false negatives.\n",
      "\n",
      "Jim comes up with a question that involves changing a key part of the context required for Amol to make a decision.\n",
      "- After Jim gets an answer, he outputs \"<<quit>>\"\n",
      "- If Amol says he doesn’t understand the question, Jim rephrases the question and asks if Amol understands the question. \n",
      "- If Amol's answer is not specific enough, Jim follows up with a more specific question to get a specific answer.\n",
      "    - For example, if Amol says \"it transforms the values,\" Jim would ask, \"In what way does it transform the values?\"\n",
      "\n",
      "Jim: What would you have done if the client had cared more about reducing false negatives than false positives?\n",
      "Amol: various things\n",
      "Jim: What would you have done if the client had cared more about reducing false negatives than false positives?\n",
      "Amol: I don't understand \n",
      "Jim: Would you have used a different metric to measure the model's performance?\n",
      "Amol: yes\n",
      "Jim: What metric would you have used?\n",
      "Amol: precision\n",
      "Jim: Why did you choose to use precision instead of accuracy?\n",
      "Amol: because it's better for imbalanced datasets/\n",
      "Jim: Why do you think precision is a better metric for imbalanced datasets?\n"
     ]
    },
    {
     "name": "stdin",
     "output_type": "stream",
     "text": [
      "Tag:  c\n",
      "Label:  0\n",
      "Reason:  \n",
      "Insights:  \n",
      "Amol:  q\n"
     ]
    }
   ],
   "source": [
    "args = dict(\n",
    "    model=\"text-davinci-002\",\n",
    "    # model=\"code-davinci-002\",\n",
    "    temperature=0,\n",
    "    top_p=1,\n",
    "    frequency_penalty=0.5,\n",
    "    presence_penalty=0,\n",
    "    max_tokens=2125)\n",
    "\n",
    "chat(\n",
    "starting_tag=\"cf\",\n",
    "topic=\"imbalance\",\n",
    "starting_prompt=\"\"\"\n",
    "Jim is interviewing Amol for a job as a Data Scientist.\n",
    "\n",
    "In a case study, Amol considered using accuracy to measure the model's performance, but decided instead to use precision, because the dataset was imbalanced and the client cared more about reducing false positives than false negatives.\n",
    "\n",
    "Jim comes up with a question that involves changing a key part of the context required for Amol to make a decision.\n",
    "- After Jim gets an answer, he outputs \"<<quit>>\"\n",
    "- If Amol says he doesn’t understand the question, Jim rephrases the question and asks if Amol understands the question. \n",
    "- If Amol's answer is not specific enough, Jim follows up with a more specific question to get a specific answer.\n",
    "    - For example, if Amol says \"it transforms the values,\" Jim would ask, \"In what way does it transform the values?\"\n",
    "\"\"\",\n",
    "args=args\n",
    ")"
   ]
  },
  {
   "cell_type": "code",
   "execution_count": 123,
   "id": "5f94a5b1-15a4-4c28-ac86-45734937c9e4",
   "metadata": {},
   "outputs": [
    {
     "name": "stdout",
     "output_type": "stream",
     "text": [
      "\n",
      "Jim is interviewing Amol for a job as a Data Scientist.\n",
      "\n",
      "In a case study, Amol considered using accuracy to measure the model's performance, but decided instead to use precision, because the dataset was imbalanced and the client cared more about reducing false positives than false negatives.\n",
      "\n",
      "Jim comes up with a question that involves changing a key part of the context required for Amol to make a decision.\n",
      "- If Amol's answer to Jim's question is valid, output \"correct, <<quit>>\" and why\n",
      "- If Amol's answer to Jim's question is invalid, output \"incorrect, <<quit>>\" and why\n",
      "\n",
      "Jim: What would you have done if the client had cared more about reducing false negatives than false positives?\n",
      "\n",
      "\n",
      "Amol: I don't understand \n",
      "Jim: incorrect, Amol does not provide a justification for his decision.\n"
     ]
    },
    {
     "name": "stdin",
     "output_type": "stream",
     "text": [
      "Tag:  g\n",
      "Label:  0\n",
      "Reason:  \n",
      "Insights:  \n",
      "Amol:  q\n"
     ]
    }
   ],
   "source": [
    "args = dict(\n",
    "    model=\"text-davinci-002\",\n",
    "    # model=\"code-davinci-002\",\n",
    "    temperature=0,\n",
    "    top_p=1,\n",
    "    frequency_penalty=0.5,\n",
    "    presence_penalty=0,\n",
    "    max_tokens=2125)\n",
    "\n",
    "chat(\n",
    "starting_tag=\"cf\",\n",
    "topic=\"imbalance\",\n",
    "starting_prompt=\"\"\"\n",
    "Jim is interviewing Amol for a job as a Data Scientist.\n",
    "\n",
    "In a case study, Amol considered using accuracy to measure the model's performance, but decided instead to use precision, because the dataset was imbalanced and the client cared more about reducing false positives than false negatives.\n",
    "\n",
    "Jim comes up with a question that involves changing a key part of the context required for Amol to make a decision.\n",
    "- If Amol's answer to Jim's question is valid, output \"correct, <<quit>>\" and why\n",
    "- If Amol's answer to Jim's question is invalid, output \"incorrect, <<quit>>\" and why\n",
    "\"\"\",\n",
    "args=args\n",
    ")"
   ]
  },
  {
   "cell_type": "markdown",
   "id": "29163413-e1fd-4c12-8d8e-98b59c88221a",
   "metadata": {
    "tags": []
   },
   "source": [
    "###### eg 3"
   ]
  },
  {
   "cell_type": "code",
   "execution_count": 57,
   "id": "60256361-dd99-4c3b-b114-e09bcd758c64",
   "metadata": {},
   "outputs": [
    {
     "name": "stdout",
     "output_type": "stream",
     "text": [
      "\n",
      "Jim is interviewing Amol for a job as a Data Scientist.\n",
      "\n",
      "In a case study, Amol said that one way to calculate the business impact of a model is to compute the total dollar cost of the solution by factoring in the cost of a true positive, false positive, false negative, and true negative from the confusion matrix.\n",
      "This can then be compared with the total dollar cost of not using the solution to see how much more value the solution brings.\n",
      "\n",
      "Jim comes up with one question that involves changing a key part of the context required for Amol to make a decision.\n",
      "\n",
      "\n",
      "Jim: What if we changed the total dollar cost of the solution to only factor in the cost of a true positive and false positive from the confusion matrix? Would that change your decision?\n",
      "Amol: that's not how the dollar cost is calculated.\n",
      "Jim: What if we only looked at the cost of a true positive and false positive when deciding whether or not to use a solution? Would that change your decision?\n",
      "Amol: yes, because this means that the number of false negatives doesn't matter. so recall doesn't matter, so I'd build a model to focus only on precision.\n",
      "Jim: What if we only looked at the cost of a true positive and false positive when deciding whether or not to use a solution? Would that change your decision?\n",
      "\n",
      "\n"
     ]
    },
    {
     "name": "stdin",
     "output_type": "stream",
     "text": [
      "Tag:  \n",
      "Label:  0\n",
      "Reason:  repeat\n",
      "Insights:  \n",
      "Amol:  q\n"
     ]
    }
   ],
   "source": [
    "args = dict(\n",
    "    model=\"text-davinci-002\",\n",
    "    # model=\"code-davinci-002\",\n",
    "    temperature=1,\n",
    "    top_p=.7,\n",
    "    frequency_penalty=0,\n",
    "    presence_penalty=0,\n",
    "    max_tokens=2125)\n",
    "\n",
    "chat(\n",
    "starting_tag=\"cf\",\n",
    "topic=\"metrics\",\n",
    "starting_prompt=\"\"\"\n",
    "Jim is interviewing Amol for a job as a Data Scientist.\n",
    "\n",
    "In a case study, Amol said that one way to calculate the business impact of a model is to compute the total dollar cost of the solution by factoring in the cost of a true positive, false positive, false negative, and true negative from the confusion matrix.\n",
    "This can then be compared with the total dollar cost of not using the solution to see how much more value the solution brings.\n",
    "\n",
    "Jim comes up with one question that involves changing a key part of the context required for Amol to make a decision.\n",
    "\n",
    "\"\"\",\n",
    "args=args\n",
    ")"
   ]
  },
  {
   "cell_type": "markdown",
   "id": "8aa3e0cd-f2ee-42d8-ab9a-67ec560171d6",
   "metadata": {
    "jp-MarkdownHeadingCollapsed": true,
    "tags": []
   },
   "source": [
    "### Q - but the issue with this is X. do you still think it's the optimal choice?"
   ]
  },
  {
   "cell_type": "markdown",
   "id": "62541da1-7a36-403f-a711-3beec437acff",
   "metadata": {
    "jp-MarkdownHeadingCollapsed": true,
    "tags": []
   },
   "source": [
    "#### without instructions to quit"
   ]
  },
  {
   "cell_type": "code",
   "execution_count": 184,
   "id": "411603cb-8854-473f-9bfb-477bf3c1cb5f",
   "metadata": {
    "tags": []
   },
   "outputs": [
    {
     "name": "stdout",
     "output_type": "stream",
     "text": [
      "\n",
      "Jim is interviewing Amol for a job as a Data Scientist.\n",
      "\n",
      "In a case study, Amol considered oversampling the minority class and adjusting class weights, but ultimately undersampled the majority class to deal with the class imbalance.\n",
      "Jim: Why did you choose to undersample the majority class instead of the other options you considered?\n",
      "Amol: the dataset was already too big, and oversampling the minority class would have slowed down the model training. under sampling the majority class let me deal with the imbalance without slowing down model training.\n",
      "\n",
      "Jim plays devil's advocate by pointing out potential flaws in Amol's reasoning, and asks Amol what he thinks of them.\n",
      "\n",
      "Jim: What if your model ended up being too biased towards the minority class?\n",
      "\n",
      "\n",
      "Amol: that is an expected side effect of undersampling the majority class. \n",
      "Jim: What if you had undersampled the minority class instead?\n",
      "\n",
      "\n",
      "\n",
      "\n",
      "Amol: that wouldn't make any sense, since the minority class is low in number already\n",
      "Jim: What if you had chosen to not undersample at all and just used class weights or oversampling the minority class?\n",
      "\n",
      "\n",
      "Amol: that would take too long to train because the dataset is very big.\n",
      "Jim: Do you think your decision was the best option given the circumstances?\n",
      "\n",
      "Yes, I believe that it was the best option considering the size of the dataset and the need to train the model quickly.\n"
     ]
    },
    {
     "name": "stdin",
     "output_type": "stream",
     "text": [
      "Tag:  ak\n",
      "Label:  1\n",
      "Reason:  \n",
      "Insights:  \n",
      "Amol:  q\n"
     ]
    }
   ],
   "source": [
    "chat(\n",
    "starting_tag=\"da\",\n",
    "topic=\"imbalance\",\n",
    "starting_prompt=\"\"\"\n",
    "Jim is interviewing Amol for a job as a Data Scientist.\n",
    "\n",
    "In a case study, Amol considered oversampling the minority class and adjusting class weights, but ultimately undersampled the majority class to deal with the class imbalance.\n",
    "Jim: Why did you choose to undersample the majority class instead of the other options you considered?\n",
    "Amol: the dataset was already too big, and oversampling the minority class would have slowed down the model training. under sampling the majority class let me deal with the imbalance without slowing down model training.\n",
    "\n",
    "Jim plays devil's advocate by pointing out potential flaws in Amol's reasoning, and asks Amol what he thinks of them.\n",
    "\"\"\",\n",
    "args=args\n",
    ")"
   ]
  },
  {
   "cell_type": "code",
   "execution_count": 7,
   "id": "ef87ec72-0637-49c2-8c2c-176639d95cb7",
   "metadata": {},
   "outputs": [
    {
     "name": "stdout",
     "output_type": "stream",
     "text": [
      "\n",
      "Jim is interviewing Amol for a job as a Data Scientist.\n",
      "\n",
      "In a case study, Amol considered using accuracy to measure the model's performance, but decided instead to use precision, because the dataset was imbalanced and the client cared more about reducing false positives than false negatives.\n",
      "Jim plays devil's advocate by pointing out potential flaws in Amol's reasoning, and asking Amol what he thinks of them.\n",
      "\n",
      "Jim: There are some potential flaws with using precision to measure the model's performance in this case. First, precision is heavily dependent on the threshold that is used to classify a positive prediction. If the threshold is set too high, then precision will be low because fewer predictions will be classified as positive. On the other hand, if the threshold is set too low, then precision will be high because more predictions will be classified as positive. Second, precision is also affected by the class balance in the data. If the positive class is very rare, then even a small number of false positives can lead to a low precision score.\n",
      "\n",
      "\n",
      "Amol: I will err on the side of a high threshold to deal with those issues.\n",
      "Jim: You're right that using a high threshold will help to reduce the number of false positives, and therefore improve precision. However, it's important to keep in mind that this will also result in fewer true positives being classified as positive, which could impact the model's overall performance.\n",
      "Amol: that's fine, since the client has stated that they don't mind false negatives.\n",
      "Jim: Amol, I think you make a valid point that the client's preference should be taken into account when deciding which metric to use. In this case, it makes sense to use precision as the primary metric, since they are more concerned with reducing false positives than false negatives.\n"
     ]
    },
    {
     "name": "stdin",
     "output_type": "stream",
     "text": [
      "Tag:  ak\n",
      "Label:  1\n",
      "Reason:  \n",
      "Insights:  \n",
      "Amol:  q\n"
     ]
    }
   ],
   "source": [
    "chat(\n",
    "starting_tag=\"da\",\n",
    "topic=\"metrics\",\n",
    "starting_prompt=\"\"\"\n",
    "Jim is interviewing Amol for a job as a Data Scientist.\n",
    "\n",
    "In a case study, Amol considered using accuracy to measure the model's performance, but decided instead to use precision, because the dataset was imbalanced and the client cared more about reducing false positives than false negatives.\n",
    "Jim plays devil's advocate by pointing out potential flaws in Amol's reasoning, and asking Amol what he thinks of them.\n",
    "\"\"\",\n",
    "args=args\n",
    ")"
   ]
  },
  {
   "cell_type": "code",
   "execution_count": 13,
   "id": "aedb988a-7010-4ac9-ba60-a7d1f9786d0a",
   "metadata": {},
   "outputs": [
    {
     "name": "stdout",
     "output_type": "stream",
     "text": [
      "\n",
      "Jim is interviewing Amol for a job as a Data Scientist.\n",
      "\n",
      "In a case study, Amol considered using backward selection to measure the model's performance, but decided instead to use a LASSO model, because it was quicker than running a model many times.\n",
      "Jim plays devil's advocate by pointing out potential flaws in Amol's reasoning, and asking Amol what he thinks of them.\n",
      "\n",
      "Jim: You decided to use a LASSO model instead of backward selection to measure the model's performance. Can you tell me why you think that was a good idea?\n",
      "\n",
      "\n",
      "Amol: because it was quicker than running a model many times using backward selection.\n",
      "Jim: Quicker isn't always better. In fact, using a LASSO model could introduce bias into the results. What do you think of that?\n",
      "\n",
      "\n",
      "Amol: what kind of bias would it introduce?\n",
      "Jim: The LASSO model could introduce a biased estimate of the model's performance, because it is more likely to select variables that are correlated with the outcome variable.\n",
      "Amol: that is the point of feature selection - to select features that have a relationship with the outcome variable. so lasso is doing it's job.\n",
      "Jim: But if the goal is to create a model that is as accurate as possible, then using a LASSO model could introduce error into the results.\n",
      "Amol: how would you suggest I do feature selection?\n",
      "Jim: There are a few different ways to do feature selection, and each has its own advantages and disadvantages. Some ways to do feature selection include: \n",
      "\n",
      "- using a LASSO model, \n",
      "- using a decision tree, \n",
      "- using a random forest, \n",
      "- using xgboost.\n",
      "Amol: but you just said using LASSO would introduce bias.\n",
      "Jim: Yes, using a LASSO model could introduce bias into the results, but it is still a valid method for feature selection. Each method has its own advantages and disadvantages, so it is important to choose the right method for the situation.\n",
      "Amol: ok, so for this situation, which feature selection approach should I use, and why?\n",
      "Jim: Based on what you've said, it sounds like you're looking for a quick and easy way to select features. In that case, using a LASSO model makes sense. However, keep in mind that using a LASSO model could introduce bias into the results. If accuracy is your top priority, then you may want to consider another method, such as using a decision tree or a random forest.\n"
     ]
    },
    {
     "name": "stdin",
     "output_type": "stream",
     "text": [
      "Tag:  \n",
      "Label:  1\n",
      "Reason:  \n",
      "Insights:  \n",
      "Amol:  q\n"
     ]
    }
   ],
   "source": [
    "chat(\n",
    "starting_tag=\"da\",\n",
    "topic=\"feature selection\",\n",
    "starting_prompt=\"\"\"\n",
    "Jim is interviewing Amol for a job as a Data Scientist.\n",
    "\n",
    "In a case study, Amol considered using backward selection to measure the model's performance, but decided instead to use a LASSO model, because it was quicker than running a model many times.\n",
    "Jim plays devil's advocate by pointing out potential flaws in Amol's reasoning, and asking Amol what he thinks of them.\n",
    "\"\"\",\n",
    "args=args\n",
    ")"
   ]
  },
  {
   "cell_type": "markdown",
   "id": "7293f55a-e16f-45c8-978b-40dc6735636f",
   "metadata": {
    "tags": []
   },
   "source": [
    "#### with instructions to quit"
   ]
  },
  {
   "cell_type": "code",
   "execution_count": 62,
   "id": "b83a49f7-3784-4eec-9087-fbc9e8cf4614",
   "metadata": {},
   "outputs": [
    {
     "name": "stdout",
     "output_type": "stream",
     "text": [
      "\n",
      "Jim is interviewing Amol for a job as a Data Scientist.\n",
      "\n",
      "In a case study, Amol considered oversampling the minority class and adjusting class weights, but ultimately undersampled the majority class to deal with the class imbalance.\n",
      "Jim: Why did you choose to undersample the majority class instead of the other options you considered?\n",
      "Amol: the dataset was already too big, and oversampling the minority class would have slowed down the model training. under sampling the majority class let me deal with the imbalance without slowing down model training.\n",
      "\n",
      "Jim plays devil's advocate by pointing out potential flaws in Amol's reasoning, and asks Amol what he thinks of them.\n",
      "\n",
      "Jim: One potential flaw in your reasoning is that by undersampling the majority class, you may be losing out on important data that could help your model learn.\n",
      "\n",
      "\n",
      "Amol: that is true. but I had to under sample the majority class, because otherwise it would have taken too long to train the model.\n",
      "Jim: Another potential flaw in your reasoning is that by undersampling the majority class, you may be introducing bias into your model.\n",
      "\n",
      "\n"
     ]
    },
    {
     "name": "stdin",
     "output_type": "stream",
     "text": [
      "Tag:  \n",
      "Label:  1\n",
      "Reason:  \n",
      "Insights:  \n",
      "Amol:  q\n"
     ]
    }
   ],
   "source": [
    "chat(\n",
    "starting_tag=\"da\",\n",
    "topic=\"imbalance\",\n",
    "starting_prompt=\"\"\"\n",
    "Jim is interviewing Amol for a job as a Data Scientist.\n",
    "\n",
    "In a case study, Amol considered oversampling the minority class and adjusting class weights, but ultimately undersampled the majority class to deal with the class imbalance.\n",
    "Jim: Why did you choose to undersample the majority class instead of the other options you considered?\n",
    "Amol: the dataset was already too big, and oversampling the minority class would have slowed down the model training. under sampling the majority class let me deal with the imbalance without slowing down model training.\n",
    "\n",
    "Jim plays devil's advocate by pointing out potential flaws in Amol's reasoning, and asks Amol what he thinks of them.\n",
    "\"\"\",\n",
    "args=args\n",
    ")"
   ]
  },
  {
   "cell_type": "code",
   "execution_count": 99,
   "id": "ff0d6387-29ae-482b-8dad-34e5b807f34f",
   "metadata": {},
   "outputs": [
    {
     "data": {
      "text/plain": [
       "\"Amol's approach is effective for the specific problem.\""
      ]
     },
     "execution_count": 99,
     "metadata": {},
     "output_type": "execute_result"
    }
   ],
   "source": [
    "args = dict(\n",
    "    model=\"text-davinci-002\",\n",
    "    # model=\"code-davinci-002\",\n",
    "    temperature=0,\n",
    "    top_p=1,\n",
    "    frequency_penalty=0.5,\n",
    "    presence_penalty=0,\n",
    "    max_tokens=2125)\n",
    "\n",
    "gpt_response = openai.Completion.create(\n",
    "            prompt=\"\"\"\n",
    "Jim is interviewing Amol for a job as a Data Scientist.\n",
    "\n",
    "In a case study, Amol considered oversampling the minority class and adjusting class weights, but ultimately undersampled the majority class to deal with the class imbalance.\n",
    "Jim: Why did you choose to undersample the majority class instead of the other options you considered?\n",
    "Amol: the dataset was already too big, and oversampling the minority class would have slowed down the model training. under sampling the majority class let me deal with the imbalance without slowing down model training.\n",
    "Jim: One potential flaw in your reasoning is that by undersampling the majority class, you may be losing out on important data that could help your model learn.\n",
    "Amol: that is true. but I had to under sample the majority class, because otherwise it would have taken too long to train the model.\n",
    "\n",
    "Is Amol's approach effective for the specific problem, or does it not address Jim's concerns? The requirement for the client is that the model is small and doesn't take too long to train.\n",
    "\"\"\",\n",
    "            **args\n",
    "        ).choices[0].text.lstrip()\n",
    "\n",
    "\n",
    "gpt_response"
   ]
  },
  {
   "cell_type": "markdown",
   "id": "0052fe11-ca99-4703-8bb9-e38a067e0676",
   "metadata": {
    "jp-MarkdownHeadingCollapsed": true,
    "tags": []
   },
   "source": [
    "# grading"
   ]
  },
  {
   "cell_type": "code",
   "execution_count": 102,
   "id": "09ebf622-328b-45c8-935f-66a306e7cea9",
   "metadata": {},
   "outputs": [
    {
     "name": "stdout",
     "output_type": "stream",
     "text": [
      "\n",
      "Jim is interviewing Amol for a job as a Data Scientist.\n",
      "\n",
      "In a case study, Amol considered using accuracy to measure the model's performance, but decided instead to use precision, because the dataset was imbalanced and the client cared more about reducing false positives than false negatives.\n",
      "Jim: There are some potential flaws with using precision to measure the model's performance in this case. First, precision is heavily dependent on the threshold that is used to classify a positive prediction. If the threshold is set too high, then precision will be low because fewer predictions will be classified as positive. On the other hand, if the threshold is set too low, then precision will be high because more predictions will be classified as positive. Second, precision is also affected by the class balance in the data. If the positive class is very rare, then even a small number of false positives can lead to a low precision score.\n",
      "Amol: I will err on the side of a high threshold to deal with those issues.\n",
      "Jim: You're right that using a high threshold will help to reduce the number of false positives, and therefore improve precision. However, it's important to keep in mind that this will also result in fewer true positives being classified as positive, which could impact the model's overall performance.\n",
      "Amol: that's fine, since the client has stated that they don't mind false negatives.\n",
      "\n",
      "- If Amol's reasoning is valid, output \"correct, <<quit>>\"\n",
      "- If Amol's reasoning is invalid, output \"incorrect, <<quit>>\"\n",
      "\n",
      "Jim: correct, <<quit>>\n"
     ]
    },
    {
     "name": "stdin",
     "output_type": "stream",
     "text": [
      "Tag:  \n",
      "Label:  1\n",
      "Reason:  \n",
      "Insights:  \n"
     ]
    }
   ],
   "source": [
    "chat(\n",
    "starting_tag=\"g\",\n",
    "topic=\"metrics\",\n",
    "starting_prompt=\"\"\"\n",
    "Jim is interviewing Amol for a job as a Data Scientist.\n",
    "\n",
    "In a case study, Amol considered using accuracy to measure the model's performance, but decided instead to use precision, because the dataset was imbalanced and the client cared more about reducing false positives than false negatives.\n",
    "Jim: There are some potential flaws with using precision to measure the model's performance in this case. First, precision is heavily dependent on the threshold that is used to classify a positive prediction. If the threshold is set too high, then precision will be low because fewer predictions will be classified as positive. On the other hand, if the threshold is set too low, then precision will be high because more predictions will be classified as positive. Second, precision is also affected by the class balance in the data. If the positive class is very rare, then even a small number of false positives can lead to a low precision score.\n",
    "Amol: I will err on the side of a high threshold to deal with those issues.\n",
    "Jim: You're right that using a high threshold will help to reduce the number of false positives, and therefore improve precision. However, it's important to keep in mind that this will also result in fewer true positives being classified as positive, which could impact the model's overall performance.\n",
    "Amol: that's fine, since the client has stated that they don't mind false negatives.\n",
    "\n",
    "- If Amol's reasoning is valid, output \"correct, <<quit>>\"\n",
    "- If Amol's reasoning is invalid, output \"incorrect, <<quit>>\"\n",
    "\"\"\",\n",
    "args=args\n",
    ")\n",
    "\n"
   ]
  },
  {
   "cell_type": "markdown",
   "id": "e40752ed-b08e-4edf-a175-bfab25f4102a",
   "metadata": {
    "jp-MarkdownHeadingCollapsed": true,
    "tags": []
   },
   "source": [
    "# things to figure out"
   ]
  },
  {
   "cell_type": "markdown",
   "id": "2929d3ef-dfcc-450e-b4b1-c63a76478ea9",
   "metadata": {
    "tags": []
   },
   "source": [
    "- it needs to ask better questions. currently they sound very robotic.\n",
    "    - >>to ask different versions of the same questions, say \"rephrase but with the same meaning.\"\n",
    "- if amol gives a vague answer, how to make jim acknowledge the answer but also ask for a more specific answer?\n",
    "    - eg what algo did you select? supervised. \"I'm sorry, I didn't get the answer I was looking for. Can you please tell me which algorithm you used?\"\n",
    "- how to make jim acknowledge that an answer is correct/he is satisfied and quit in same response?\n",
    "    - >> worst case, we can ask it to output \"quit\" and then in a separate prompt, create a statement to acknowledge the answer.\n",
    "    - >> overall gpt3 does better when you give just a single instruction. so separate call for acknowledge, and seprate for grading, and separate for quitting.\n",
    "- how to make jim ignore spelling mistakes\n",
    "------------\n",
    "- how to evaluate EDA?\n",
    "    - it needs to know how much EDA is \"thorough enough\". Also needs to know if the EDA that is being done is useful / valid.\n",
    "- how to include the data in the prompt / allow gpt3 to learn the data, so that gpt3 can validate claims the applicant makes about the data and choice of approach (eg. \"the data is nonlinear\", GPT quickly looks at the data and says, \"no its not\", or applicat - \"i didnt resample the classes because there is no class imbalance in the data\". gpt3 - \"yes there is\")\n",
    "    - >> read ipynb\n",
    "-------------\n",
    "- how to make jim give amol 2 chances to give an answer?\n",
    "- why does it create all those newlines?\n"
   ]
  },
  {
   "cell_type": "code",
   "execution_count": null,
   "id": "f605a921-b943-4bca-8729-cbb0d0061265",
   "metadata": {},
   "outputs": [],
   "source": [
    "with open('document.csv','a') as fd:\n",
    "    fd.write(myCsvRow)"
   ]
  },
  {
   "cell_type": "markdown",
   "id": "ad129f56-cca8-49fe-bd61-88d1a5004e05",
   "metadata": {
    "jp-MarkdownHeadingCollapsed": true,
    "tags": []
   },
   "source": [
    "# seeing how gpt handles data"
   ]
  },
  {
   "cell_type": "code",
   "execution_count": null,
   "id": "db3f63ca-7c29-4944-aa7b-d70cd0307911",
   "metadata": {
    "tags": []
   },
   "outputs": [],
   "source": [
    "IQ | hours spent studying | are parents together | grade\n",
    "100 | 10 | 1 | 80\n",
    "50 | 100 | 1 | 80\n",
    "150 | 100 | 1 | 90\n",
    "100 | 50 | 0 | 70\n",
    "50 | 100 | 0 | 70\n",
    "100 | 100 | 1 | 90\n",
    "150 | 50 | 1 | 90\n",
    "100 | 100 | 0 | 70\n",
    "150 | 100 | 0 | 60\n",
    "100 | 150 | 0 | 60\n",
    "100 | 100 | 0 | 60"
   ]
  },
  {
   "cell_type": "code",
   "execution_count": 42,
   "id": "f6c26432-5e0e-44b2-8d07-54115f7426ed",
   "metadata": {},
   "outputs": [
    {
     "data": {
      "text/html": [
       "<div>\n",
       "<style scoped>\n",
       "    .dataframe tbody tr th:only-of-type {\n",
       "        vertical-align: middle;\n",
       "    }\n",
       "\n",
       "    .dataframe tbody tr th {\n",
       "        vertical-align: top;\n",
       "    }\n",
       "\n",
       "    .dataframe thead th {\n",
       "        text-align: right;\n",
       "    }\n",
       "</style>\n",
       "<table border=\"1\" class=\"dataframe\">\n",
       "  <thead>\n",
       "    <tr style=\"text-align: right;\">\n",
       "      <th></th>\n",
       "      <th>IQ</th>\n",
       "      <th>hours spent studying</th>\n",
       "      <th>are parents together</th>\n",
       "      <th>grade</th>\n",
       "    </tr>\n",
       "  </thead>\n",
       "  <tbody>\n",
       "    <tr>\n",
       "      <th>IQ</th>\n",
       "      <td>1.000000</td>\n",
       "      <td>-0.143108</td>\n",
       "      <td>0.149071</td>\n",
       "      <td>0.181758</td>\n",
       "    </tr>\n",
       "    <tr>\n",
       "      <th>hours spent studying</th>\n",
       "      <td>-0.143108</td>\n",
       "      <td>1.000000</td>\n",
       "      <td>-0.393366</td>\n",
       "      <td>-0.390951</td>\n",
       "    </tr>\n",
       "    <tr>\n",
       "      <th>are parents together</th>\n",
       "      <td>0.149071</td>\n",
       "      <td>-0.393366</td>\n",
       "      <td>1.000000</td>\n",
       "      <td>0.903696</td>\n",
       "    </tr>\n",
       "    <tr>\n",
       "      <th>grade</th>\n",
       "      <td>0.181758</td>\n",
       "      <td>-0.390951</td>\n",
       "      <td>0.903696</td>\n",
       "      <td>1.000000</td>\n",
       "    </tr>\n",
       "  </tbody>\n",
       "</table>\n",
       "</div>"
      ],
      "text/plain": [
       "                            IQ  hours spent studying  are parents together  \\\n",
       "IQ                    1.000000             -0.143108              0.149071   \n",
       "hours spent studying -0.143108              1.000000             -0.393366   \n",
       "are parents together  0.149071             -0.393366              1.000000   \n",
       "grade                 0.181758             -0.390951              0.903696   \n",
       "\n",
       "                         grade  \n",
       "IQ                    0.181758  \n",
       "hours spent studying -0.390951  \n",
       "are parents together  0.903696  \n",
       "grade                 1.000000  "
      ]
     },
     "execution_count": 42,
     "metadata": {},
     "output_type": "execute_result"
    }
   ],
   "source": [
    "grades_toy_data = pd.DataFrame({'IQ': [100,50,150,100,50,100,150,100,150,100,100],\n",
    "                               'hours spent studying': [10,100,100,50,100,100,50,100,100,150,100],\n",
    "                               'are parents together': [1,1,1,0,0,1,1,0,0,0,0],\n",
    "                               'grade': [80,80,90,70,70,90,90,70,60,60,60]})\n",
    "\n",
    "grades_toy_data.corr()"
   ]
  },
  {
   "cell_type": "code",
   "execution_count": 57,
   "id": "657c1025-52f7-41b6-9bfd-6cf669d9074f",
   "metadata": {},
   "outputs": [
    {
     "data": {
      "text/plain": [
       "(array([3., 0., 0., 3., 0., 0., 2., 0., 0., 3.]),\n",
       " array([60., 63., 66., 69., 72., 75., 78., 81., 84., 87., 90.]),\n",
       " <BarContainer object of 10 artists>)"
      ]
     },
     "execution_count": 57,
     "metadata": {},
     "output_type": "execute_result"
    },
    {
     "data": {
      "image/png": "[encoded data removed]",
      "text/plain": [
       "<Figure size 640x480 with 1 Axes>"
      ]
     },
     "metadata": {},
     "output_type": "display_data"
    }
   ],
   "source": [
    "plt.hist(grades_toy_data['grade'])"
   ]
  },
  {
   "cell_type": "code",
   "execution_count": null,
   "id": "37323106-37bd-44f3-862e-1742e5ea11ae",
   "metadata": {},
   "outputs": [],
   "source": [
    "grades_toy_data.corr().to_string()"
   ]
  },
  {
   "cell_type": "code",
   "execution_count": 65,
   "id": "a586355c-3107-440e-9f4f-8be87032b8c5",
   "metadata": {},
   "outputs": [],
   "source": [
    "test_data = pd.DataFrame({'a': [1,1,1,2,2,2,3,3,3,3,3,4,4,4,4,5,5,5,7,7,7]})"
   ]
  },
  {
   "cell_type": "code",
   "execution_count": 66,
   "id": "24389574-fc1d-436d-a588-5902d8b70191",
   "metadata": {},
   "outputs": [
    {
     "data": {
      "text/plain": [
       "(array([3., 3., 0., 5., 0., 4., 3., 0., 0., 3.]),\n",
       " array([1. , 1.6, 2.2, 2.8, 3.4, 4. , 4.6, 5.2, 5.8, 6.4, 7. ]),\n",
       " <BarContainer object of 10 artists>)"
      ]
     },
     "execution_count": 66,
     "metadata": {},
     "output_type": "execute_result"
    },
    {
     "data": {
      "image/png": "[encoded data removed]",
      "text/plain": [
       "<Figure size 640x480 with 1 Axes>"
      ]
     },
     "metadata": {},
     "output_type": "display_data"
    }
   ],
   "source": [
    "plt.hist(test_data['a'])"
   ]
  }
 ],
 "metadata": {
  "kernelspec": {
   "display_name": "Python 3 (ipykernel)",
   "language": "python",
   "name": "python3"
  },
  "language_info": {
   "codemirror_mode": {
    "name": "ipython",
    "version": 3
   },
   "file_extension": ".py",
   "mimetype": "text/x-python",
   "name": "python",
   "nbconvert_exporter": "python",
   "pygments_lexer": "ipython3",
   "version": "3.11.0"
  }
 },
 "nbformat": 4,
 "nbformat_minor": 5
}
